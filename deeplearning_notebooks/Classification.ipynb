{
 "cells": [
  {
   "cell_type": "code",
   "execution_count": null,
   "id": "eb61bff4-abc4-4c3d-bd83-5f6d697832d6",
   "metadata": {},
   "outputs": [],
   "source": [
    "import numpy as np\n",
    "import matplotlib.pyplot as plt\n",
    "%matplotlib inline"
   ]
  },
  {
   "cell_type": "code",
   "execution_count": null,
   "id": "612c1504-9dc0-47e0-966a-3672096f49aa",
   "metadata": {},
   "outputs": [],
   "source": [
    "#fn for drawing lines\n",
    "def draw(x1,x2):\n",
    "    line = plt.plot(x1,x2)\n",
    "\n",
    "def sigmoid(score):\n",
    "    return 1/(1+ np.exp(-score))\n",
    "\n",
    "#calculate_error(line_parameters,all_points,y) y is labels\n",
    "# to calculate the cross entropy equation (error) we need log of probabilities of each point \n",
    "# multiply it with label(y)\n",
    "def calculate_error(line_parameters,points,y):\n",
    "    \n",
    "    m = points.shape[0] # to get numer of points\n",
    "    probabilities = sigmoid(points*line_parameters)\n",
    "    #(one row probs *one column label to get 1x1 matrix) dont forget to tak the average of the log summation\n",
    "    cross_entropy = -(1/m)*(np.log(probabilities).T*y + np.log(1-probabilities).T*(1-y))\n",
    "    return cross_entropy\n",
    "\n",
    "\n",
    "\n",
    "\n",
    "def gradient_descent(line_parameters, points, y, alpha):  #alpha- learning rate variable\n",
    "   #we have 500 chances to find the line with the least error using formula\n",
    "    m = points.shape[0] # to get numer of iterations of points i.e. no of rows.\n",
    "\n",
    "    for i in range(500):\n",
    "        p = sigmoid(points*line_parameters)\n",
    "\n",
    "        gradient = (points.T*(p-y))*(alpha/m) #points is a 20x3 array  and p-y 20x1 arrays so to multiply we need to transpose the points array \n",
    "        # Update the line parameters by subtracting the gradient from it in small steps( *learnig rate)\n",
    "        line_parameters = line_parameters - gradient\n",
    "        \n",
    "        # line_parameters = np.matrix([w1,w2,b]).T\n",
    "\n",
    "        w1 = line_parameters.item(0)\n",
    "        w2 = line_parameters.item(1)\n",
    "        b = line_parameters.item(2)\n",
    "\n",
    "        x1 = np.array([points[:,0].min(),points[:,0].max()]) # horizontal co-ordinates of the points to the left and right extremes\n",
    "        x2 = -b/w2 - x1*(w1/w2)\n",
    "        \n",
    "    draw(x1,x2)"
   ]
  },
  {
   "cell_type": "code",
   "execution_count": null,
   "id": "938919c0-21ed-4d48-87fb-10ffdccc6c95",
   "metadata": {},
   "outputs": [
    {
     "name": "stdout",
     "output_type": "stream",
     "text": [
      "(202, 3)\n",
      "(3, 1)\n",
      "[-0.10597963 14.4817864 ] [10.06055979  1.72469349]\n"
     ]
    },
    {
     "data": {
      "text/plain": [
       "matrix([[0.69314718]])"
      ]
     },
     "execution_count": 107,
     "metadata": {},
     "output_type": "execute_result"
    }
   ],
   "source": [
    "\n",
    " \n",
    "n_pts=101\n",
    "np.random.seed(0) # so that we get the same random poits every time\n",
    "\n",
    "#bias\n",
    "bias = np.ones(n_pts)\n",
    "\n",
    "# randomly creating x1 and x2  points via normal distribbutions for upper right and bottom left\n",
    "top_region = np.array([np.random.normal(10,2,n_pts), np.random.normal(12,2,n_pts),bias]).T \n",
    "bottom_region = np.array([np.random.normal(5,2, n_pts), np.random.normal(6,2, n_pts),bias]).T\n",
    "\n",
    "all_points = np.vstack((top_region,bottom_region)) #to print all our points together\n",
    "\n",
    "#create a matrix of parameters for the line to be plotted for starting classification w1x1 +w2x2 + b = 0\n",
    "\n",
    "# These parameters have to be decided by the computer itself \n",
    "# w1 = -0.2\n",
    "# w2 = -0.35\n",
    "# b = 3.5\n",
    "\n",
    "#take transpose so that if we do the multiplication of all points and parameters.\n",
    "#The points are x1,x2 and line params are w1,w2 and b initial b is 1 after multiplication itll be 1*3.5\n",
    "\n",
    "# line_parameters = np.matrix([w1,w2,b]).T\n",
    "\n",
    "line_parameters = np.matrix([np.zeros(3)]).T\n",
    "\n",
    "print(all_points.shape)\n",
    "print(line_parameters.shape)\n",
    "\n",
    "# we want to cover from the further most point on left bottom to the furthermost point on right top\n",
    "# x1 = np.array([bottom_region[:,0].min(),top_region[:,0].max()]) # horizontal co-ordinates of the points to the left and right extremes\n",
    "# x2 = -b/w2 - x1*(w1/w2)\n",
    "# ^^ this has to be decided by the computer\n",
    "\n",
    "\n",
    "print(x1,x2)\n",
    "\n",
    "#now to get line equations via x1w1 +x2w2 + b we need to multiplythe line params(w1,w2,b) with all points(x1,x2)\n",
    "\n",
    "linear_combination = all_points*line_parameters\n",
    "# linear_combination # check 10 elements\n",
    "\n",
    "\n",
    "# now that we have the linear combination of the points(line equations) in an array\n",
    "# we need to convert the linear combinations to probabtilities using sigmoid fn\n",
    "\n",
    "#higher the probability the closer it is to the left bottom and conversely top right\n",
    "# probabilities = sigmoid(linear_combination) used in the calculate error function\n",
    "\n",
    "\n",
    "# How will the computer know which model correctly classifies the data?\n",
    "#There are problems with misclassified data so to solve this problem we need cross entropy(sum of logs)\n",
    "#step 1 calculate probablities\n",
    "#prob(red) = 1-Prob(blue)\n",
    "#if we add the log of probabilities after classification and they add up to be high the error is high hence bad model\n",
    "# calculate CE and decide which model to use CE more Error more\n",
    "\n",
    "# To decide which points are labelled 1 and which are zero we know that the bottom left points were stacked\n",
    "# on the top left points so the first half of that array is to be labelled 1 and econd half as 0\n",
    "y = np.array([np.zeros(n_pts),np.ones(n_pts)]).reshape(n_pts*2,1) # reshape(rows,cols)to make 20 rows of ones and zeroes\n",
    "\n",
    "\n",
    "calculate_error(line_parameters,all_points,y)\n",
    "\n",
    "#after we have found out the error wewill use gradient descent so that it will constantly reduce the error\n",
    "# keep doing this till we get the best model. to minimize error\n",
    "#1.take derivative of the error (w1, w2, b)wrt weights to get gradients and subtract it from error \n",
    " \n",
    " #    gradient of error = pts*(p-y)/m\n",
    " #    pts = points\n",
    " #    p = probability\n",
    " #    y = label\n",
    " #    m = number of points(no of rows)\n",
    "    \n",
    "# to be more specific the prediction for a single point is subtracted from the points actuual label \n",
    "# then the result is muliplied by the points co-ordinates which is done for every single points and t\n",
    "# taking the summationo each result the  dividing by the no of points\n",
    "\n",
    "\n",
    "### Subtracting the error fro the previos error gives us nex weights and lines with small error fuunctions.\n",
    "### NOTE: we need to take small leaps from one point to the other by multiplying with small value known as learning rates\n"
   ]
  },
  {
   "cell_type": "code",
   "execution_count": null,
   "id": "bc811664-7b57-4720-b443-6062f05d4542",
   "metadata": {},
   "outputs": [
    {
     "data": {
      "image/png": "[encoded data removed]",
      "text/plain": [
       "<Figure size 288x288 with 1 Axes>"
      ]
     },
     "metadata": {
      "needs_background": "light"
     },
     "output_type": "display_data"
    }
   ],
   "source": [
    "\n",
    "_, ax= plt.subplots(figsize=(4,4))\n",
    "ax.scatter(top_region[:,0], top_region[:,1], color='r')\n",
    "ax.scatter(bottom_region[:,0], bottom_region[:,1], color='b')\n",
    "# draw(x1,x2) - this has to be decided by computer\n",
    "\n",
    "\n",
    "gradient_descent(line_parameters, all_points, y, 0.01)\n",
    "\n",
    "plt.show()"
   ]
  },
  {
   "cell_type": "code",
   "execution_count": null,
   "id": "4267f466-4a57-490c-9ab9-9ecbd20c30e0",
   "metadata": {},
   "outputs": [],
   "source": []
  },
  {
   "cell_type": "code",
   "execution_count": null,
   "id": "5a7257b9-2ac7-4d21-86d1-dfb8685adc08",
   "metadata": {},
   "outputs": [],
   "source": []
  }
 ],
 "metadata": {
  "kernelspec": {
   "display_name": "Python 3 (ipykernel)",
   "language": "python",
   "name": "python3"
  },
  "language_info": {
   "codemirror_mode": {
    "name": "ipython",
    "version": 3
   },
   "file_extension": ".py",
   "mimetype": "text/x-python",
   "name": "python",
   "nbconvert_exporter": "python",
   "pygments_lexer": "ipython3",
   "version": "3.7.16"
  }
 },
 "nbformat": 4,
 "nbformat_minor": 5
}
