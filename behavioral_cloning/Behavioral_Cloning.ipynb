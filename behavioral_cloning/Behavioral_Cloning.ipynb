{
  "nbformat": 4,
  "nbformat_minor": 0,
  "metadata": {
    "colab": {
      "provenance": []
    },
    "kernelspec": {
      "name": "python3",
      "display_name": "Python 3"
    },
    "language_info": {
      "name": "python"
    },
    "accelerator": "GPU",
    "gpuClass": "standard"
  },
  "cells": [
    {
      "cell_type": "code",
      "execution_count": 1,
      "metadata": {
        "colab": {
          "base_uri": "https://localhost:8080/"
        },
        "id": "8KRqRVP4bxGJ",
        "outputId": "ffb1bb03-d74b-425f-bf26-057b2981b7fd"
      },
      "outputs": [
        {
          "output_type": "stream",
          "name": "stdout",
          "text": [
            "Cloning into 'Track_Deep_Learning'...\n",
            "remote: Enumerating objects: 17020, done.\u001b[K\n",
            "remote: Total 17020 (delta 0), reused 0 (delta 0), pack-reused 17020\u001b[K\n",
            "Receiving objects: 100% (17020/17020), 245.61 MiB | 14.67 MiB/s, done.\n",
            "Updating files: 100% (17017/17017), done.\n"
          ]
        }
      ],
      "source": [
        "!git clone https://github.com/Rishikesh-Jadhav/Track_Deep_Learning"
      ]
    },
    {
      "cell_type": "code",
      "source": [
        "!ls"
      ],
      "metadata": {
        "colab": {
          "base_uri": "https://localhost:8080/"
        },
        "id": "lWHO_QTWcUce",
        "outputId": "353a2e08-2a28-4841-99cb-3c09b7c4ebb3"
      },
      "execution_count": 2,
      "outputs": [
        {
          "output_type": "stream",
          "name": "stdout",
          "text": [
            "sample_data  Track_Deep_Learning\n"
          ]
        }
      ]
    },
    {
      "cell_type": "code",
      "source": [
        "!ls Track_Deep_Learning/"
      ],
      "metadata": {
        "colab": {
          "base_uri": "https://localhost:8080/"
        },
        "id": "lMQuon7VcVp2",
        "outputId": "be4f1840-110e-4503-a518-4493ff1629b2"
      },
      "execution_count": 3,
      "outputs": [
        {
          "output_type": "stream",
          "name": "stdout",
          "text": [
            "driving_log.csv  IMG\n"
          ]
        }
      ]
    },
    {
      "cell_type": "code",
      "source": [
        "# Till now we have created the dataset from the simulator 3 laps front  and 3 laps reverse so the model doesnt become left turn bias as our track consists majorly of left turns"
      ],
      "metadata": {
        "id": "tJoYmllZcaMv"
      },
      "execution_count": 4,
      "outputs": []
    },
    {
      "cell_type": "code",
      "source": [
        "import numpy as np\n",
        "import matplotlib.pyplot as plt\n",
        "import matplotlib.image as mpimg\n",
        "import keras\n",
        "from keras.models import Sequential\n",
        "from keras.optimizers import Adam\n",
        "from keras.layers import Conv2D, MaxPooling2D, Dense, Flatten, Dropout\n",
        "import pandas as pd\n",
        "import cv2\n",
        "import random\n",
        "import os # module helpful for path inclusion instead of specifying string path\n",
        "import ntpath # to split path\n",
        "from sklearn.utils import shuffle\n",
        "\n",
        "from sklearn.model_selection import train_test_split\n",
        "\n",
        "%matplotlib inline"
      ],
      "metadata": {
        "id": "nwWTErzvc85v"
      },
      "execution_count": 5,
      "outputs": []
    },
    {
      "cell_type": "code",
      "source": [
        "data_directory = 'Track_Deep_Learning'\n",
        "columns = ['center','left','right','steering','throttle','reverse','speed']\n",
        "df = pd.read_csv(os.path.join(data_directory,'driving_log.csv'), names = columns)\n",
        "pd.set_option('display.max_colwidth', -1)\n",
        "df.head(5) # column overflows and we need to see full path\n"
      ],
      "metadata": {
        "colab": {
          "base_uri": "https://localhost:8080/",
          "height": 372
        },
        "id": "oPKlP7J9dw3a",
        "outputId": "3090b013-4e90-40af-b994-b68db1fd4a22"
      },
      "execution_count": 6,
      "outputs": [
        {
          "output_type": "stream",
          "name": "stderr",
          "text": [
            "<ipython-input-6-17b2f0ce6025>:4: FutureWarning: Passing a negative integer is deprecated in version 1.0 and will not be supported in future version. Instead, use None to not limit the column width.\n",
            "  pd.set_option('display.max_colwidth', -1)\n"
          ]
        },
        {
          "output_type": "execute_result",
          "data": {
            "text/plain": [
              "                                                                                                     center  \\\n",
              "0  C:\\Users\\rishi\\OneDrive\\Desktop\\Autonomous_car_deep_learning\\data\\IMG\\center_2023_02_13_14_28_29_922.jpg   \n",
              "1  C:\\Users\\rishi\\OneDrive\\Desktop\\Autonomous_car_deep_learning\\data\\IMG\\center_2023_02_13_14_28_30_025.jpg   \n",
              "2  C:\\Users\\rishi\\OneDrive\\Desktop\\Autonomous_car_deep_learning\\data\\IMG\\center_2023_02_13_14_28_30_127.jpg   \n",
              "3  C:\\Users\\rishi\\OneDrive\\Desktop\\Autonomous_car_deep_learning\\data\\IMG\\center_2023_02_13_14_28_30_227.jpg   \n",
              "4  C:\\Users\\rishi\\OneDrive\\Desktop\\Autonomous_car_deep_learning\\data\\IMG\\center_2023_02_13_14_28_30_329.jpg   \n",
              "\n",
              "                                                                                                      left  \\\n",
              "0   C:\\Users\\rishi\\OneDrive\\Desktop\\Autonomous_car_deep_learning\\data\\IMG\\left_2023_02_13_14_28_29_922.jpg   \n",
              "1   C:\\Users\\rishi\\OneDrive\\Desktop\\Autonomous_car_deep_learning\\data\\IMG\\left_2023_02_13_14_28_30_025.jpg   \n",
              "2   C:\\Users\\rishi\\OneDrive\\Desktop\\Autonomous_car_deep_learning\\data\\IMG\\left_2023_02_13_14_28_30_127.jpg   \n",
              "3   C:\\Users\\rishi\\OneDrive\\Desktop\\Autonomous_car_deep_learning\\data\\IMG\\left_2023_02_13_14_28_30_227.jpg   \n",
              "4   C:\\Users\\rishi\\OneDrive\\Desktop\\Autonomous_car_deep_learning\\data\\IMG\\left_2023_02_13_14_28_30_329.jpg   \n",
              "\n",
              "                                                                                                      right  \\\n",
              "0   C:\\Users\\rishi\\OneDrive\\Desktop\\Autonomous_car_deep_learning\\data\\IMG\\right_2023_02_13_14_28_29_922.jpg   \n",
              "1   C:\\Users\\rishi\\OneDrive\\Desktop\\Autonomous_car_deep_learning\\data\\IMG\\right_2023_02_13_14_28_30_025.jpg   \n",
              "2   C:\\Users\\rishi\\OneDrive\\Desktop\\Autonomous_car_deep_learning\\data\\IMG\\right_2023_02_13_14_28_30_127.jpg   \n",
              "3   C:\\Users\\rishi\\OneDrive\\Desktop\\Autonomous_car_deep_learning\\data\\IMG\\right_2023_02_13_14_28_30_227.jpg   \n",
              "4   C:\\Users\\rishi\\OneDrive\\Desktop\\Autonomous_car_deep_learning\\data\\IMG\\right_2023_02_13_14_28_30_329.jpg   \n",
              "\n",
              "   steering  throttle  reverse     speed  \n",
              "0  0.0       0.0       0.0      0.000078  \n",
              "1  0.0       0.0       0.0      0.000081  \n",
              "2  0.0       0.0       0.0      0.000079  \n",
              "3  0.0       0.0       0.0      0.000078  \n",
              "4  0.0       0.0       0.0      0.000079  "
            ],
            "text/html": [
              "\n",
              "  <div id=\"df-1a89f405-90f6-43de-9ceb-cfd2bda164a5\">\n",
              "    <div class=\"colab-df-container\">\n",
              "      <div>\n",
              "<style scoped>\n",
              "    .dataframe tbody tr th:only-of-type {\n",
              "        vertical-align: middle;\n",
              "    }\n",
              "\n",
              "    .dataframe tbody tr th {\n",
              "        vertical-align: top;\n",
              "    }\n",
              "\n",
              "    .dataframe thead th {\n",
              "        text-align: right;\n",
              "    }\n",
              "</style>\n",
              "<table border=\"1\" class=\"dataframe\">\n",
              "  <thead>\n",
              "    <tr style=\"text-align: right;\">\n",
              "      <th></th>\n",
              "      <th>center</th>\n",
              "      <th>left</th>\n",
              "      <th>right</th>\n",
              "      <th>steering</th>\n",
              "      <th>throttle</th>\n",
              "      <th>reverse</th>\n",
              "      <th>speed</th>\n",
              "    </tr>\n",
              "  </thead>\n",
              "  <tbody>\n",
              "    <tr>\n",
              "      <th>0</th>\n",
              "      <td>C:\\Users\\rishi\\OneDrive\\Desktop\\Autonomous_car_deep_learning\\data\\IMG\\center_2023_02_13_14_28_29_922.jpg</td>\n",
              "      <td>C:\\Users\\rishi\\OneDrive\\Desktop\\Autonomous_car_deep_learning\\data\\IMG\\left_2023_02_13_14_28_29_922.jpg</td>\n",
              "      <td>C:\\Users\\rishi\\OneDrive\\Desktop\\Autonomous_car_deep_learning\\data\\IMG\\right_2023_02_13_14_28_29_922.jpg</td>\n",
              "      <td>0.0</td>\n",
              "      <td>0.0</td>\n",
              "      <td>0.0</td>\n",
              "      <td>0.000078</td>\n",
              "    </tr>\n",
              "    <tr>\n",
              "      <th>1</th>\n",
              "      <td>C:\\Users\\rishi\\OneDrive\\Desktop\\Autonomous_car_deep_learning\\data\\IMG\\center_2023_02_13_14_28_30_025.jpg</td>\n",
              "      <td>C:\\Users\\rishi\\OneDrive\\Desktop\\Autonomous_car_deep_learning\\data\\IMG\\left_2023_02_13_14_28_30_025.jpg</td>\n",
              "      <td>C:\\Users\\rishi\\OneDrive\\Desktop\\Autonomous_car_deep_learning\\data\\IMG\\right_2023_02_13_14_28_30_025.jpg</td>\n",
              "      <td>0.0</td>\n",
              "      <td>0.0</td>\n",
              "      <td>0.0</td>\n",
              "      <td>0.000081</td>\n",
              "    </tr>\n",
              "    <tr>\n",
              "      <th>2</th>\n",
              "      <td>C:\\Users\\rishi\\OneDrive\\Desktop\\Autonomous_car_deep_learning\\data\\IMG\\center_2023_02_13_14_28_30_127.jpg</td>\n",
              "      <td>C:\\Users\\rishi\\OneDrive\\Desktop\\Autonomous_car_deep_learning\\data\\IMG\\left_2023_02_13_14_28_30_127.jpg</td>\n",
              "      <td>C:\\Users\\rishi\\OneDrive\\Desktop\\Autonomous_car_deep_learning\\data\\IMG\\right_2023_02_13_14_28_30_127.jpg</td>\n",
              "      <td>0.0</td>\n",
              "      <td>0.0</td>\n",
              "      <td>0.0</td>\n",
              "      <td>0.000079</td>\n",
              "    </tr>\n",
              "    <tr>\n",
              "      <th>3</th>\n",
              "      <td>C:\\Users\\rishi\\OneDrive\\Desktop\\Autonomous_car_deep_learning\\data\\IMG\\center_2023_02_13_14_28_30_227.jpg</td>\n",
              "      <td>C:\\Users\\rishi\\OneDrive\\Desktop\\Autonomous_car_deep_learning\\data\\IMG\\left_2023_02_13_14_28_30_227.jpg</td>\n",
              "      <td>C:\\Users\\rishi\\OneDrive\\Desktop\\Autonomous_car_deep_learning\\data\\IMG\\right_2023_02_13_14_28_30_227.jpg</td>\n",
              "      <td>0.0</td>\n",
              "      <td>0.0</td>\n",
              "      <td>0.0</td>\n",
              "      <td>0.000078</td>\n",
              "    </tr>\n",
              "    <tr>\n",
              "      <th>4</th>\n",
              "      <td>C:\\Users\\rishi\\OneDrive\\Desktop\\Autonomous_car_deep_learning\\data\\IMG\\center_2023_02_13_14_28_30_329.jpg</td>\n",
              "      <td>C:\\Users\\rishi\\OneDrive\\Desktop\\Autonomous_car_deep_learning\\data\\IMG\\left_2023_02_13_14_28_30_329.jpg</td>\n",
              "      <td>C:\\Users\\rishi\\OneDrive\\Desktop\\Autonomous_car_deep_learning\\data\\IMG\\right_2023_02_13_14_28_30_329.jpg</td>\n",
              "      <td>0.0</td>\n",
              "      <td>0.0</td>\n",
              "      <td>0.0</td>\n",
              "      <td>0.000079</td>\n",
              "    </tr>\n",
              "  </tbody>\n",
              "</table>\n",
              "</div>\n",
              "      <button class=\"colab-df-convert\" onclick=\"convertToInteractive('df-1a89f405-90f6-43de-9ceb-cfd2bda164a5')\"\n",
              "              title=\"Convert this dataframe to an interactive table.\"\n",
              "              style=\"display:none;\">\n",
              "        \n",
              "  <svg xmlns=\"http://www.w3.org/2000/svg\" height=\"24px\"viewBox=\"0 0 24 24\"\n",
              "       width=\"24px\">\n",
              "    <path d=\"M0 0h24v24H0V0z\" fill=\"none\"/>\n",
              "    <path d=\"M18.56 5.44l.94 2.06.94-2.06 2.06-.94-2.06-.94-.94-2.06-.94 2.06-2.06.94zm-11 1L8.5 8.5l.94-2.06 2.06-.94-2.06-.94L8.5 2.5l-.94 2.06-2.06.94zm10 10l.94 2.06.94-2.06 2.06-.94-2.06-.94-.94-2.06-.94 2.06-2.06.94z\"/><path d=\"M17.41 7.96l-1.37-1.37c-.4-.4-.92-.59-1.43-.59-.52 0-1.04.2-1.43.59L10.3 9.45l-7.72 7.72c-.78.78-.78 2.05 0 2.83L4 21.41c.39.39.9.59 1.41.59.51 0 1.02-.2 1.41-.59l7.78-7.78 2.81-2.81c.8-.78.8-2.07 0-2.86zM5.41 20L4 18.59l7.72-7.72 1.47 1.35L5.41 20z\"/>\n",
              "  </svg>\n",
              "      </button>\n",
              "      \n",
              "  <style>\n",
              "    .colab-df-container {\n",
              "      display:flex;\n",
              "      flex-wrap:wrap;\n",
              "      gap: 12px;\n",
              "    }\n",
              "\n",
              "    .colab-df-convert {\n",
              "      background-color: #E8F0FE;\n",
              "      border: none;\n",
              "      border-radius: 50%;\n",
              "      cursor: pointer;\n",
              "      display: none;\n",
              "      fill: #1967D2;\n",
              "      height: 32px;\n",
              "      padding: 0 0 0 0;\n",
              "      width: 32px;\n",
              "    }\n",
              "\n",
              "    .colab-df-convert:hover {\n",
              "      background-color: #E2EBFA;\n",
              "      box-shadow: 0px 1px 2px rgba(60, 64, 67, 0.3), 0px 1px 3px 1px rgba(60, 64, 67, 0.15);\n",
              "      fill: #174EA6;\n",
              "    }\n",
              "\n",
              "    [theme=dark] .colab-df-convert {\n",
              "      background-color: #3B4455;\n",
              "      fill: #D2E3FC;\n",
              "    }\n",
              "\n",
              "    [theme=dark] .colab-df-convert:hover {\n",
              "      background-color: #434B5C;\n",
              "      box-shadow: 0px 1px 3px 1px rgba(0, 0, 0, 0.15);\n",
              "      filter: drop-shadow(0px 1px 2px rgba(0, 0, 0, 0.3));\n",
              "      fill: #FFFFFF;\n",
              "    }\n",
              "  </style>\n",
              "\n",
              "      <script>\n",
              "        const buttonEl =\n",
              "          document.querySelector('#df-1a89f405-90f6-43de-9ceb-cfd2bda164a5 button.colab-df-convert');\n",
              "        buttonEl.style.display =\n",
              "          google.colab.kernel.accessAllowed ? 'block' : 'none';\n",
              "\n",
              "        async function convertToInteractive(key) {\n",
              "          const element = document.querySelector('#df-1a89f405-90f6-43de-9ceb-cfd2bda164a5');\n",
              "          const dataTable =\n",
              "            await google.colab.kernel.invokeFunction('convertToInteractive',\n",
              "                                                     [key], {});\n",
              "          if (!dataTable) return;\n",
              "\n",
              "          const docLinkHtml = 'Like what you see? Visit the ' +\n",
              "            '<a target=\"_blank\" href=https://colab.research.google.com/notebooks/data_table.ipynb>data table notebook</a>'\n",
              "            + ' to learn more about interactive tables.';\n",
              "          element.innerHTML = '';\n",
              "          dataTable['output_type'] = 'display_data';\n",
              "          await google.colab.output.renderOutput(dataTable, element);\n",
              "          const docLink = document.createElement('div');\n",
              "          docLink.innerHTML = docLinkHtml;\n",
              "          element.appendChild(docLink);\n",
              "        }\n",
              "      </script>\n",
              "    </div>\n",
              "  </div>\n",
              "  "
            ]
          },
          "metadata": {},
          "execution_count": 6
        }
      ]
    },
    {
      "cell_type": "code",
      "source": [
        "# we have to get rid of the path from the desktop and keep tail end of the path\n",
        "def path_leaf(path): # apply this to all of our data\n",
        "  head,tail = ntpath.split(path)\n",
        "  return tail\n",
        "\n",
        "df['center'] = df['center'].apply(path_leaf)\n",
        "df['left'] = df['left'].apply(path_leaf)\n",
        "df['right'] = df['right'].apply(path_leaf)\n",
        "\n",
        "df.head(10)"
      ],
      "metadata": {
        "colab": {
          "base_uri": "https://localhost:8080/",
          "height": 363
        },
        "id": "UFpS64rye4-J",
        "outputId": "d6cf92f4-a525-48d4-ba41-6be3439f7e94"
      },
      "execution_count": 7,
      "outputs": [
        {
          "output_type": "execute_result",
          "data": {
            "text/plain": [
              "                               center                              left  \\\n",
              "0  center_2023_02_13_14_28_29_922.jpg  left_2023_02_13_14_28_29_922.jpg   \n",
              "1  center_2023_02_13_14_28_30_025.jpg  left_2023_02_13_14_28_30_025.jpg   \n",
              "2  center_2023_02_13_14_28_30_127.jpg  left_2023_02_13_14_28_30_127.jpg   \n",
              "3  center_2023_02_13_14_28_30_227.jpg  left_2023_02_13_14_28_30_227.jpg   \n",
              "4  center_2023_02_13_14_28_30_329.jpg  left_2023_02_13_14_28_30_329.jpg   \n",
              "5  center_2023_02_13_14_28_30_430.jpg  left_2023_02_13_14_28_30_430.jpg   \n",
              "6  center_2023_02_13_14_28_30_531.jpg  left_2023_02_13_14_28_30_531.jpg   \n",
              "7  center_2023_02_13_14_28_30_634.jpg  left_2023_02_13_14_28_30_634.jpg   \n",
              "8  center_2023_02_13_14_28_30_740.jpg  left_2023_02_13_14_28_30_740.jpg   \n",
              "9  center_2023_02_13_14_28_30_842.jpg  left_2023_02_13_14_28_30_842.jpg   \n",
              "\n",
              "                               right  steering  throttle  reverse     speed  \n",
              "0  right_2023_02_13_14_28_29_922.jpg  0.0       0.0       0.0      0.000078  \n",
              "1  right_2023_02_13_14_28_30_025.jpg  0.0       0.0       0.0      0.000081  \n",
              "2  right_2023_02_13_14_28_30_127.jpg  0.0       0.0       0.0      0.000079  \n",
              "3  right_2023_02_13_14_28_30_227.jpg  0.0       0.0       0.0      0.000078  \n",
              "4  right_2023_02_13_14_28_30_329.jpg  0.0       0.0       0.0      0.000079  \n",
              "5  right_2023_02_13_14_28_30_430.jpg  0.0       0.0       0.0      0.000079  \n",
              "6  right_2023_02_13_14_28_30_531.jpg  0.0       0.0       0.0      0.000078  \n",
              "7  right_2023_02_13_14_28_30_634.jpg  0.0       0.0       0.0      0.000078  \n",
              "8  right_2023_02_13_14_28_30_740.jpg  0.0       0.0       0.0      0.000081  \n",
              "9  right_2023_02_13_14_28_30_842.jpg  0.0       0.0       0.0      0.000078  "
            ],
            "text/html": [
              "\n",
              "  <div id=\"df-712fb087-e12b-43e6-ad32-08a1d673a19f\">\n",
              "    <div class=\"colab-df-container\">\n",
              "      <div>\n",
              "<style scoped>\n",
              "    .dataframe tbody tr th:only-of-type {\n",
              "        vertical-align: middle;\n",
              "    }\n",
              "\n",
              "    .dataframe tbody tr th {\n",
              "        vertical-align: top;\n",
              "    }\n",
              "\n",
              "    .dataframe thead th {\n",
              "        text-align: right;\n",
              "    }\n",
              "</style>\n",
              "<table border=\"1\" class=\"dataframe\">\n",
              "  <thead>\n",
              "    <tr style=\"text-align: right;\">\n",
              "      <th></th>\n",
              "      <th>center</th>\n",
              "      <th>left</th>\n",
              "      <th>right</th>\n",
              "      <th>steering</th>\n",
              "      <th>throttle</th>\n",
              "      <th>reverse</th>\n",
              "      <th>speed</th>\n",
              "    </tr>\n",
              "  </thead>\n",
              "  <tbody>\n",
              "    <tr>\n",
              "      <th>0</th>\n",
              "      <td>center_2023_02_13_14_28_29_922.jpg</td>\n",
              "      <td>left_2023_02_13_14_28_29_922.jpg</td>\n",
              "      <td>right_2023_02_13_14_28_29_922.jpg</td>\n",
              "      <td>0.0</td>\n",
              "      <td>0.0</td>\n",
              "      <td>0.0</td>\n",
              "      <td>0.000078</td>\n",
              "    </tr>\n",
              "    <tr>\n",
              "      <th>1</th>\n",
              "      <td>center_2023_02_13_14_28_30_025.jpg</td>\n",
              "      <td>left_2023_02_13_14_28_30_025.jpg</td>\n",
              "      <td>right_2023_02_13_14_28_30_025.jpg</td>\n",
              "      <td>0.0</td>\n",
              "      <td>0.0</td>\n",
              "      <td>0.0</td>\n",
              "      <td>0.000081</td>\n",
              "    </tr>\n",
              "    <tr>\n",
              "      <th>2</th>\n",
              "      <td>center_2023_02_13_14_28_30_127.jpg</td>\n",
              "      <td>left_2023_02_13_14_28_30_127.jpg</td>\n",
              "      <td>right_2023_02_13_14_28_30_127.jpg</td>\n",
              "      <td>0.0</td>\n",
              "      <td>0.0</td>\n",
              "      <td>0.0</td>\n",
              "      <td>0.000079</td>\n",
              "    </tr>\n",
              "    <tr>\n",
              "      <th>3</th>\n",
              "      <td>center_2023_02_13_14_28_30_227.jpg</td>\n",
              "      <td>left_2023_02_13_14_28_30_227.jpg</td>\n",
              "      <td>right_2023_02_13_14_28_30_227.jpg</td>\n",
              "      <td>0.0</td>\n",
              "      <td>0.0</td>\n",
              "      <td>0.0</td>\n",
              "      <td>0.000078</td>\n",
              "    </tr>\n",
              "    <tr>\n",
              "      <th>4</th>\n",
              "      <td>center_2023_02_13_14_28_30_329.jpg</td>\n",
              "      <td>left_2023_02_13_14_28_30_329.jpg</td>\n",
              "      <td>right_2023_02_13_14_28_30_329.jpg</td>\n",
              "      <td>0.0</td>\n",
              "      <td>0.0</td>\n",
              "      <td>0.0</td>\n",
              "      <td>0.000079</td>\n",
              "    </tr>\n",
              "    <tr>\n",
              "      <th>5</th>\n",
              "      <td>center_2023_02_13_14_28_30_430.jpg</td>\n",
              "      <td>left_2023_02_13_14_28_30_430.jpg</td>\n",
              "      <td>right_2023_02_13_14_28_30_430.jpg</td>\n",
              "      <td>0.0</td>\n",
              "      <td>0.0</td>\n",
              "      <td>0.0</td>\n",
              "      <td>0.000079</td>\n",
              "    </tr>\n",
              "    <tr>\n",
              "      <th>6</th>\n",
              "      <td>center_2023_02_13_14_28_30_531.jpg</td>\n",
              "      <td>left_2023_02_13_14_28_30_531.jpg</td>\n",
              "      <td>right_2023_02_13_14_28_30_531.jpg</td>\n",
              "      <td>0.0</td>\n",
              "      <td>0.0</td>\n",
              "      <td>0.0</td>\n",
              "      <td>0.000078</td>\n",
              "    </tr>\n",
              "    <tr>\n",
              "      <th>7</th>\n",
              "      <td>center_2023_02_13_14_28_30_634.jpg</td>\n",
              "      <td>left_2023_02_13_14_28_30_634.jpg</td>\n",
              "      <td>right_2023_02_13_14_28_30_634.jpg</td>\n",
              "      <td>0.0</td>\n",
              "      <td>0.0</td>\n",
              "      <td>0.0</td>\n",
              "      <td>0.000078</td>\n",
              "    </tr>\n",
              "    <tr>\n",
              "      <th>8</th>\n",
              "      <td>center_2023_02_13_14_28_30_740.jpg</td>\n",
              "      <td>left_2023_02_13_14_28_30_740.jpg</td>\n",
              "      <td>right_2023_02_13_14_28_30_740.jpg</td>\n",
              "      <td>0.0</td>\n",
              "      <td>0.0</td>\n",
              "      <td>0.0</td>\n",
              "      <td>0.000081</td>\n",
              "    </tr>\n",
              "    <tr>\n",
              "      <th>9</th>\n",
              "      <td>center_2023_02_13_14_28_30_842.jpg</td>\n",
              "      <td>left_2023_02_13_14_28_30_842.jpg</td>\n",
              "      <td>right_2023_02_13_14_28_30_842.jpg</td>\n",
              "      <td>0.0</td>\n",
              "      <td>0.0</td>\n",
              "      <td>0.0</td>\n",
              "      <td>0.000078</td>\n",
              "    </tr>\n",
              "  </tbody>\n",
              "</table>\n",
              "</div>\n",
              "      <button class=\"colab-df-convert\" onclick=\"convertToInteractive('df-712fb087-e12b-43e6-ad32-08a1d673a19f')\"\n",
              "              title=\"Convert this dataframe to an interactive table.\"\n",
              "              style=\"display:none;\">\n",
              "        \n",
              "  <svg xmlns=\"http://www.w3.org/2000/svg\" height=\"24px\"viewBox=\"0 0 24 24\"\n",
              "       width=\"24px\">\n",
              "    <path d=\"M0 0h24v24H0V0z\" fill=\"none\"/>\n",
              "    <path d=\"M18.56 5.44l.94 2.06.94-2.06 2.06-.94-2.06-.94-.94-2.06-.94 2.06-2.06.94zm-11 1L8.5 8.5l.94-2.06 2.06-.94-2.06-.94L8.5 2.5l-.94 2.06-2.06.94zm10 10l.94 2.06.94-2.06 2.06-.94-2.06-.94-.94-2.06-.94 2.06-2.06.94z\"/><path d=\"M17.41 7.96l-1.37-1.37c-.4-.4-.92-.59-1.43-.59-.52 0-1.04.2-1.43.59L10.3 9.45l-7.72 7.72c-.78.78-.78 2.05 0 2.83L4 21.41c.39.39.9.59 1.41.59.51 0 1.02-.2 1.41-.59l7.78-7.78 2.81-2.81c.8-.78.8-2.07 0-2.86zM5.41 20L4 18.59l7.72-7.72 1.47 1.35L5.41 20z\"/>\n",
              "  </svg>\n",
              "      </button>\n",
              "      \n",
              "  <style>\n",
              "    .colab-df-container {\n",
              "      display:flex;\n",
              "      flex-wrap:wrap;\n",
              "      gap: 12px;\n",
              "    }\n",
              "\n",
              "    .colab-df-convert {\n",
              "      background-color: #E8F0FE;\n",
              "      border: none;\n",
              "      border-radius: 50%;\n",
              "      cursor: pointer;\n",
              "      display: none;\n",
              "      fill: #1967D2;\n",
              "      height: 32px;\n",
              "      padding: 0 0 0 0;\n",
              "      width: 32px;\n",
              "    }\n",
              "\n",
              "    .colab-df-convert:hover {\n",
              "      background-color: #E2EBFA;\n",
              "      box-shadow: 0px 1px 2px rgba(60, 64, 67, 0.3), 0px 1px 3px 1px rgba(60, 64, 67, 0.15);\n",
              "      fill: #174EA6;\n",
              "    }\n",
              "\n",
              "    [theme=dark] .colab-df-convert {\n",
              "      background-color: #3B4455;\n",
              "      fill: #D2E3FC;\n",
              "    }\n",
              "\n",
              "    [theme=dark] .colab-df-convert:hover {\n",
              "      background-color: #434B5C;\n",
              "      box-shadow: 0px 1px 3px 1px rgba(0, 0, 0, 0.15);\n",
              "      filter: drop-shadow(0px 1px 2px rgba(0, 0, 0, 0.3));\n",
              "      fill: #FFFFFF;\n",
              "    }\n",
              "  </style>\n",
              "\n",
              "      <script>\n",
              "        const buttonEl =\n",
              "          document.querySelector('#df-712fb087-e12b-43e6-ad32-08a1d673a19f button.colab-df-convert');\n",
              "        buttonEl.style.display =\n",
              "          google.colab.kernel.accessAllowed ? 'block' : 'none';\n",
              "\n",
              "        async function convertToInteractive(key) {\n",
              "          const element = document.querySelector('#df-712fb087-e12b-43e6-ad32-08a1d673a19f');\n",
              "          const dataTable =\n",
              "            await google.colab.kernel.invokeFunction('convertToInteractive',\n",
              "                                                     [key], {});\n",
              "          if (!dataTable) return;\n",
              "\n",
              "          const docLinkHtml = 'Like what you see? Visit the ' +\n",
              "            '<a target=\"_blank\" href=https://colab.research.google.com/notebooks/data_table.ipynb>data table notebook</a>'\n",
              "            + ' to learn more about interactive tables.';\n",
              "          element.innerHTML = '';\n",
              "          dataTable['output_type'] = 'display_data';\n",
              "          await google.colab.output.renderOutput(dataTable, element);\n",
              "          const docLink = document.createElement('div');\n",
              "          docLink.innerHTML = docLinkHtml;\n",
              "          element.appendChild(docLink);\n",
              "        }\n",
              "      </script>\n",
              "    </div>\n",
              "  </div>\n",
              "  "
            ]
          },
          "metadata": {},
          "execution_count": 7
        }
      ]
    },
    {
      "cell_type": "code",
      "source": [
        "# plot steering angle of images on histogram visualizing is veru=y important to check irregularities in data\n",
        "\n",
        "num_bins = 25 #(odd for cetral distribution)\n",
        "samples_per_bin = 275\n",
        "hist, bins = np.histogram(df['steering'], num_bins)#(steering values, divide them by no of bins) # returns 2 vals, values of histogram, interval of bins(steering angles)\n",
        "\n",
        "#the center value of the data should be 0 and the distribution of steerng angles should be around it\n",
        "center = (bins[:-1] + bins[1:])*0.5  #(starting at -1 till 0.92) + (starting at -0.92 to 1)(-0.04+0.04 = 0) \n",
        "# by doing the above middle neighbours are added and others are doubled, so finally we have to deivide them by 2 \n",
        "\n",
        "print(center)\n",
        "plt.bar(center, hist, width = 0.05)#(range of vals, vals of histogram, widhth of each bar)\n",
        "\n",
        "# more zero angles as track was more centered, we dont want our model to be more biased to center driving so reduce the dataset by setting max threshold to approx 300\n",
        "plt.plot(np.min(df['steering']),np.max(df['steering']), (samples_per_bin, samples_per_bin))#(min,max , x-samples per bin, y-samples per bin)"
      ],
      "metadata": {
        "colab": {
          "base_uri": "https://localhost:8080/",
          "height": 352
        },
        "id": "r_aVpLBmhU01",
        "outputId": "aa803cee-cf66-4488-d5d4-8b5db0e7c360"
      },
      "execution_count": 8,
      "outputs": [
        {
          "output_type": "stream",
          "name": "stdout",
          "text": [
            "[-0.96 -0.88 -0.8  -0.72 -0.64 -0.56 -0.48 -0.4  -0.32 -0.24 -0.16 -0.08\n",
            "  0.    0.08  0.16  0.24  0.32  0.4   0.48  0.56  0.64  0.72  0.8   0.88\n",
            "  0.96]\n"
          ]
        },
        {
          "output_type": "execute_result",
          "data": {
            "text/plain": [
              "[<matplotlib.lines.Line2D at 0x7f3c8ebdbf70>,\n",
              " <matplotlib.lines.Line2D at 0x7f3c8ebdbfd0>]"
            ]
          },
          "metadata": {},
          "execution_count": 8
        },
        {
          "output_type": "display_data",
          "data": {
            "text/plain": [
              "<Figure size 432x288 with 1 Axes>"
            ],
            "image/png": "[encoded data removed]"
          },
          "metadata": {
            "needs_background": "light"
          }
        }
      ]
    },
    {
      "cell_type": "code",
      "source": [
        "\n",
        "# remove all samples above the threshold\n",
        "print('total_data:',len(df))\n",
        "remove_list = []\n",
        "for j in range(num_bins): #loop through the bins\n",
        "  list_ = []\n",
        "  for i in range(len(df)): #isolate streering data in a certain bin\n",
        "  # if the steering angle at the index is greater than tthe current bin [j] && steering data if it is smaller than the bin that comes after the current one\n",
        "    if df['steering'][i] >= bins[j] and df['steering'][i] <= bins[j+1]: # condition  for checking  the steering angle\n",
        "  # eg a value of -0.97 -0.96,-0.95 all belong to the same bin\n",
        "      list_.append(i) \n",
        "\n",
        "  list_ = shuffle(list_) #part of outer loop\n",
        "  list_=list_[samples_per_bin:] #(from the limit to above) #isolate the extra part of the list and put it in the empty remove list\n",
        "  # we have to shuffle the list after every interval because if we have 500 instances of left steering angles and our limit is 300 we just cant reject the last 200 because these angles \n",
        "  #are in chronological order and we would lose the angles at the end of the track .They are from start to end hence shuffling is important to get uniform data from start to end.\n",
        "  remove_list.extend(list_)\n",
        "\n",
        "print('removed:',len(remove_list))\n",
        "# now we will drop the data using the indices in this remove list from our actual df\n",
        "df.drop(df.index[remove_list], inplace = True) # inplace = true so that the updated value stays on the same copy\n",
        "print('remaining:',len(df))\n",
        "hist, _ = np.histogram(df['steering'],(num_bins))#(,no of intervals)\n",
        "#plotting\n",
        "plt.bar(center, hist, width = 0.05)\n",
        "plt.plot(np.min(df['steering']),np.max(df['steering']), (samples_per_bin, samples_per_bin))\n"
      ],
      "metadata": {
        "colab": {
          "base_uri": "https://localhost:8080/",
          "height": 352
        },
        "id": "ZNbqnV5GiRwb",
        "outputId": "11f3c4d7-90f4-4b2a-a6bd-1a363bb3ccda"
      },
      "execution_count": 9,
      "outputs": [
        {
          "output_type": "stream",
          "name": "stdout",
          "text": [
            "total_data: 5672\n",
            "removed: 3876\n",
            "remaining: 1796\n"
          ]
        },
        {
          "output_type": "execute_result",
          "data": {
            "text/plain": [
              "[<matplotlib.lines.Line2D at 0x7f3c8f71d160>,\n",
              " <matplotlib.lines.Line2D at 0x7f3c8f71d1c0>]"
            ]
          },
          "metadata": {},
          "execution_count": 9
        },
        {
          "output_type": "display_data",
          "data": {
            "text/plain": [
              "<Figure size 432x288 with 1 Axes>"
            ],
            "image/png": "[encoded data removed]"
          },
          "metadata": {
            "needs_background": "light"
          }
        }
      ]
    },
    {
      "cell_type": "code",
      "source": [
        "# record recovery laps where we make seperate recording of the car constatntly steering from the side to recover\n"
      ],
      "metadata": {
        "id": "xUNrupqelaJt"
      },
      "execution_count": 10,
      "outputs": []
    },
    {
      "cell_type": "code",
      "source": [
        "# TRAINING AND VALIDATION SPLIT\n",
        " # images as training data an steering angles as lables\n",
        "print(df.iloc[1])\n",
        "def load_image_steering(data_directory,df): \n",
        "   image_path = [] #X\n",
        "   steering = []   #y\n",
        "   for i in range(len(df)):\n",
        "     index_data = df.iloc[i] #iloc allows us to do a selection on the row of data from the df based on the index\n",
        "     center, left, right = index_data[0], index_data[1], index_data[1]\n",
        "     #we are going to now take the center images and place them in the image list with the original path and convert it to an array so that it can be split into training and validation data#\n",
        "     #NOTE that we have to add the full path of the images that are currently shortened\n",
        "     image_path.append(os.path.join (data_directory,center.strip()))  #(join the directory with corresponding image name, .stip eliminates spaces if any in string )\n",
        "     steering.append(float(index_data[3]))\n",
        "   \n",
        "   #conv list to arrays\n",
        "   image_paths = np.asarray(image_path)   \n",
        "   steerings = np.asarray(steering)\n",
        "\n",
        "   return image_paths, steerings\n",
        "\n",
        "image_paths,steerings =  load_image_steering(data_directory,df)\n",
        "\n",
        "#split these in train and validation using a model from sklearn (train_test_split)\n",
        "\n",
        "\n"
      ],
      "metadata": {
        "colab": {
          "base_uri": "https://localhost:8080/"
        },
        "id": "n5ackWibuFsH",
        "outputId": "5b6798db-1ae8-4544-eff4-393d2f5f18ca"
      },
      "execution_count": 11,
      "outputs": [
        {
          "output_type": "stream",
          "name": "stdout",
          "text": [
            "center      center_2023_02_13_14_28_30_025.jpg\n",
            "left        left_2023_02_13_14_28_30_025.jpg  \n",
            "right       right_2023_02_13_14_28_30_025.jpg \n",
            "steering    0.0                               \n",
            "throttle    0.0                               \n",
            "reverse     0.0                               \n",
            "speed       0.000081                          \n",
            "Name: 1, dtype: object\n"
          ]
        }
      ]
    },
    {
      "cell_type": "code",
      "source": [
        "X_train, X_valid, y_train, y_valid = train_test_split(image_paths, steerings, test_size=0.2, random_state=6) #(X,y,split,random seed)\n",
        "print('Training samples : {} \\n Valid samples : {}'.format(len(X_train),len(X_valid)))\n"
      ],
      "metadata": {
        "colab": {
          "base_uri": "https://localhost:8080/"
        },
        "id": "PTQNtCUj3sst",
        "outputId": "da15aa7b-512b-462f-938f-aacec33d419b"
      },
      "execution_count": 12,
      "outputs": [
        {
          "output_type": "stream",
          "name": "stdout",
          "text": [
            "Training samples : 1436 \n",
            " Valid samples : 360\n"
          ]
        }
      ]
    },
    {
      "cell_type": "code",
      "source": [
        "# Plot X_train and X_valid using subplots-2 outputs figs and axes 2 histograms one at index  and one at index 2\n",
        "fig, axes = plt.subplots(1,2, figsize=(12,4))#(no of rows,cols,figsize)\n",
        "axes[0].hist(y_train,bins = num_bins, width = 0.05,color = 'blue') #(plotting steering angles)\n",
        "axes[0].set_title('Training set')\n",
        "axes[1].hist(y_valid,bins = num_bins, width = 0.05,color = 'red') #(plotting steering angles)\n",
        "axes[1].set_title('validation set')\n",
        "\n"
      ],
      "metadata": {
        "colab": {
          "base_uri": "https://localhost:8080/",
          "height": 298
        },
        "id": "KT1dhjs10_BN",
        "outputId": "69b4d885-a082-448b-e188-1016df3536eb"
      },
      "execution_count": 13,
      "outputs": [
        {
          "output_type": "execute_result",
          "data": {
            "text/plain": [
              "Text(0.5, 1.0, 'validation set')"
            ]
          },
          "metadata": {},
          "execution_count": 13
        },
        {
          "output_type": "display_data",
          "data": {
            "text/plain": [
              "<Figure size 864x288 with 2 Axes>"
            ],
            "image/png": "[encoded data removed]"
          },
          "metadata": {
            "needs_background": "light"
          }
        }
      ]
    },
    {
      "cell_type": "code",
      "source": [
        "# both follow a general trend center bias seen"
      ],
      "metadata": {
        "id": "5p1BRoZG2_Uv"
      },
      "execution_count": 14,
      "outputs": []
    },
    {
      "cell_type": "code",
      "source": [
        "### PREPROCESSING IMAGES \n",
        "#we have the image paths so we have to now include and read the image from the path to preprocess"
      ],
      "metadata": {
        "id": "qWvhIRbW3Ewx"
      },
      "execution_count": 15,
      "outputs": []
    },
    {
      "cell_type": "code",
      "source": [
        "# we dont need to focus on a lot of features in the image as the top part is just scenery and bottom part is just the hood of the car\n",
        "# so lets crop it as we know th image is a 3d array(height,width,channels)# as we want to reduce height we'll keep th other params default\n",
        "#(to use the Nvidia architecture it is suggested to use yuv colorspace for our dataset as opposed to the deafault rgb format or even grayscale img )\n",
        "\n",
        "def img_preprocess(img):\n",
        "  img = mpimg.imread(img) #reading image from path\n",
        "  img = img[60:135,:,:]\n",
        "  cv2.cvtColor(img,cv2.COLOR_RGB2YUV) # yuv 3 channels - y(luminosty/brightness),u,v(chromium components which add colors to the image)\n",
        "  #Gaussian blur for smoothening and reducing noise kernel convolution\n",
        "  img = cv2.GaussianBlur(img, (3,3), 0)\n",
        "  # resize to increase size for faster computation\n",
        "  cv2.resize(img, (200,66)) #(image,size of image)\n",
        "  #normalize(no visual immpact)\n",
        "  img = img/255\n",
        "  return img\n"
      ],
      "metadata": {
        "id": "0aCIfkHy3JFK"
      },
      "execution_count": 16,
      "outputs": []
    },
    {
      "cell_type": "code",
      "source": [
        "# comparing original to  image to preprocessed image # define them independently\n",
        "image = image_paths[100]\n",
        "original_image = mpimg.imread(image)\n",
        "preprocessed_image = img_preprocess(image)\n",
        "\n",
        "fig,axs = plt.subplots(1,2,figsize=(15,10))\n",
        "fig.tight_layout\n",
        "axs[0].imshow(original_image)\n",
        "axs[0].set_title('Original Image')\n",
        "axs[1].imshow(preprocessed_image)\n",
        "axs[1].set_title('Preprocessed Image')\n"
      ],
      "metadata": {
        "colab": {
          "base_uri": "https://localhost:8080/",
          "height": 382
        },
        "id": "InOdlDCQ-9Pb",
        "outputId": "8b2c24d3-487b-47fc-e307-83ae0b32a9d0"
      },
      "execution_count": 17,
      "outputs": [
        {
          "output_type": "error",
          "ename": "FileNotFoundError",
          "evalue": "ignored",
          "traceback": [
            "\u001b[0;31m---------------------------------------------------------------------------\u001b[0m",
            "\u001b[0;31mFileNotFoundError\u001b[0m                         Traceback (most recent call last)",
            "\u001b[0;32m<ipython-input-17-4f767959da7d>\u001b[0m in \u001b[0;36m<module>\u001b[0;34m\u001b[0m\n\u001b[1;32m      1\u001b[0m \u001b[0;31m# comparing original to  image to preprocessed image # define them independently\u001b[0m\u001b[0;34m\u001b[0m\u001b[0;34m\u001b[0m\u001b[0;34m\u001b[0m\u001b[0m\n\u001b[1;32m      2\u001b[0m \u001b[0mimage\u001b[0m \u001b[0;34m=\u001b[0m \u001b[0mimage_paths\u001b[0m\u001b[0;34m[\u001b[0m\u001b[0;36m100\u001b[0m\u001b[0;34m]\u001b[0m\u001b[0;34m\u001b[0m\u001b[0;34m\u001b[0m\u001b[0m\n\u001b[0;32m----> 3\u001b[0;31m \u001b[0moriginal_image\u001b[0m \u001b[0;34m=\u001b[0m \u001b[0mmpimg\u001b[0m\u001b[0;34m.\u001b[0m\u001b[0mimread\u001b[0m\u001b[0;34m(\u001b[0m\u001b[0mimage\u001b[0m\u001b[0;34m)\u001b[0m\u001b[0;34m\u001b[0m\u001b[0;34m\u001b[0m\u001b[0m\n\u001b[0m\u001b[1;32m      4\u001b[0m \u001b[0mpreprocessed_image\u001b[0m \u001b[0;34m=\u001b[0m \u001b[0mimg_preprocess\u001b[0m\u001b[0;34m(\u001b[0m\u001b[0mimage\u001b[0m\u001b[0;34m)\u001b[0m\u001b[0;34m\u001b[0m\u001b[0;34m\u001b[0m\u001b[0m\n\u001b[1;32m      5\u001b[0m \u001b[0;34m\u001b[0m\u001b[0m\n",
            "\u001b[0;32m/usr/local/lib/python3.8/dist-packages/matplotlib/image.py\u001b[0m in \u001b[0;36mimread\u001b[0;34m(fname, format)\u001b[0m\n\u001b[1;32m   1462\u001b[0m             raise ValueError('Only know how to handle PNG; with Pillow '\n\u001b[1;32m   1463\u001b[0m                              'installed, Matplotlib can handle more images')\n\u001b[0;32m-> 1464\u001b[0;31m         \u001b[0;32mwith\u001b[0m \u001b[0mImage\u001b[0m\u001b[0;34m.\u001b[0m\u001b[0mopen\u001b[0m\u001b[0;34m(\u001b[0m\u001b[0mfname\u001b[0m\u001b[0;34m)\u001b[0m \u001b[0;32mas\u001b[0m \u001b[0mimage\u001b[0m\u001b[0;34m:\u001b[0m\u001b[0;34m\u001b[0m\u001b[0;34m\u001b[0m\u001b[0m\n\u001b[0m\u001b[1;32m   1465\u001b[0m             \u001b[0;32mreturn\u001b[0m \u001b[0mpil_to_array\u001b[0m\u001b[0;34m(\u001b[0m\u001b[0mimage\u001b[0m\u001b[0;34m)\u001b[0m\u001b[0;34m\u001b[0m\u001b[0;34m\u001b[0m\u001b[0m\n\u001b[1;32m   1466\u001b[0m     \u001b[0;32mfrom\u001b[0m \u001b[0mmatplotlib\u001b[0m \u001b[0;32mimport\u001b[0m \u001b[0m_png\u001b[0m\u001b[0;34m\u001b[0m\u001b[0;34m\u001b[0m\u001b[0m\n",
            "\u001b[0;32m/usr/local/lib/python3.8/dist-packages/PIL/Image.py\u001b[0m in \u001b[0;36mopen\u001b[0;34m(fp, mode)\u001b[0m\n\u001b[1;32m   2841\u001b[0m \u001b[0;34m\u001b[0m\u001b[0m\n\u001b[1;32m   2842\u001b[0m     \u001b[0;32mif\u001b[0m \u001b[0mfilename\u001b[0m\u001b[0;34m:\u001b[0m\u001b[0;34m\u001b[0m\u001b[0;34m\u001b[0m\u001b[0m\n\u001b[0;32m-> 2843\u001b[0;31m         \u001b[0mfp\u001b[0m \u001b[0;34m=\u001b[0m \u001b[0mbuiltins\u001b[0m\u001b[0;34m.\u001b[0m\u001b[0mopen\u001b[0m\u001b[0;34m(\u001b[0m\u001b[0mfilename\u001b[0m\u001b[0;34m,\u001b[0m \u001b[0;34m\"rb\"\u001b[0m\u001b[0;34m)\u001b[0m\u001b[0;34m\u001b[0m\u001b[0;34m\u001b[0m\u001b[0m\n\u001b[0m\u001b[1;32m   2844\u001b[0m         \u001b[0mexclusive_fp\u001b[0m \u001b[0;34m=\u001b[0m \u001b[0;32mTrue\u001b[0m\u001b[0;34m\u001b[0m\u001b[0;34m\u001b[0m\u001b[0m\n\u001b[1;32m   2845\u001b[0m \u001b[0;34m\u001b[0m\u001b[0m\n",
            "\u001b[0;31mFileNotFoundError\u001b[0m: [Errno 2] No such file or directory: 'Track_Deep_Learning/center_2023_02_13_14_29_00_924.jpg'"
          ]
        }
      ]
    },
    {
      "cell_type": "code",
      "source": [
        "#Preprocessing the taining dataset\n",
        "\n",
        "#using map fucntion to iterate through entire array. and for every element it loops though returns a new elements based on fucntion that is executed for each item in the array\n",
        "# this essentially creates a new updated array with the modified items \n",
        "\n",
        "X_train = np.array(list(img_preprocess,X_train))#(fn,array) returns a list then convert it back to array using asarray"
      ],
      "metadata": {
        "id": "_dfRSKNhAAU9"
      },
      "execution_count": null,
      "outputs": []
    },
    {
      "cell_type": "code",
      "source": [
        "# Veryfying whether the data is preprocessed or not by taking a random image from the dataset and viewing it"
      ],
      "metadata": {
        "id": "X7hLNJ_ezSmP"
      },
      "execution_count": null,
      "outputs": []
    },
    {
      "cell_type": "code",
      "source": [
        "plt.imshow(X_train[random.randint(0, len(X_train) - 1)])#(from 0 to len-1)\n",
        "plt.axis(\"off\")\n",
        "print(X_train.shape)"
      ],
      "metadata": {
        "id": "ttHk6_-azaS2"
      },
      "execution_count": null,
      "outputs": []
    },
    {
      "cell_type": "code",
      "source": [
        "### NVIDIA MODEL ARCHITECTURE "
      ],
      "metadata": {
        "id": "zZSKXm0vDGo2"
      },
      "execution_count": null,
      "outputs": []
    },
    {
      "cell_type": "code",
      "source": [
        "def nvidia_model(): # cnvolutional != conv2d\n",
        "  model = Sequential()\n",
        "  model.add(Conv2D(24, kernel_size=(5,5), strides=(2,2), input_shape=(66,200,3),activation='elu'))\n",
        "  #model.add(convolutional2D(24,5,5, subsamples(strides 2,2), input_shape(66,200,3, actiavation=)))\n",
        "\n",
        "  model.add(Conv2D(36, kernel_size=(5,5), strides=(2,2), activation='elu'))\n",
        "  # 3 more layers with changed attributes remove strides and reduce kernel size towards the end as image size reduces \n",
        "  model.add(Conv2D(48, kernel_size=(5,5), strides=(2,2), activation='elu'))\n",
        "  model.add(Conv2D(64, kernel_size=(3,3), activation='elu'))\n",
        "\n",
        "  model.add(Conv2D(64, kernel_size=(3,3), activation='elu'))\n",
        "  model.add(Dropout(0.5))\n",
        "\n",
        "  model.add(Flatten())\n",
        "  #flatten and input to fully connected layers\n",
        "  model.add(Dense(100, activation='elu'))\n",
        "  #Dropout in between DNN to reduce overfitting\n",
        "  #0.5 - 50 percent of randomly selected nodes are turned off \n",
        "  model.add(Dropout(0.5))\n",
        "\n",
        "\n",
        "  model.add(Dense(50, activation='elu'))\n",
        "  model.add(Dropout(0.5)) # new dropout for reducing overfitting\n",
        "\n",
        "  model.add(Dense(10, activation ='elu'))\n",
        "  model.add(Dropout(0.5)) # new dropout for reducing overfitting\n",
        "\n",
        "  #last layer with one noode\n",
        "  model.add(Dense(1))\n",
        "\n",
        "  # slow learning rate for efficient learning\n",
        "  optimizer= Adam(1e-3)\n",
        "  # regression model therefore mean square error loss to be calculated (poly reg module)\n",
        "  model.compile(loss='mse', optimizer=optimizer)\n",
        "\n",
        "  return model"
      ],
      "metadata": {
        "id": "vucQlD0w4ve3"
      },
      "execution_count": null,
      "outputs": []
    },
    {
      "cell_type": "code",
      "source": [
        "model = nvidia_model()\n",
        "print(model.summary)"
      ],
      "metadata": {
        "id": "Vw7sK8514vll"
      },
      "execution_count": null,
      "outputs": []
    },
    {
      "cell_type": "code",
      "source": [
        "history = model.fit(X_train,y_train, epochs =30, validation_data=(X_valid,y_valid), batch_size=100, verbose=1, shuffle=1)"
      ],
      "metadata": {
        "id": "YwE4TaxL4v0c"
      },
      "execution_count": null,
      "outputs": []
    },
    {
      "cell_type": "code",
      "source": [
        "# # In training process our epochs are increasing but loss is not going down \n",
        "# # Relu is good for big computations, reliale and quick, but in this case the loss is not converging\n",
        "# # relu can cause somethiing called ddead relu and only feeds 0 to the following nodes \n",
        "# if value is less than 0 if the value is greater than 0 the  that value is retuned.\n",
        "# the gradient of relu in the posive direction is one but in the negative direction is 0\n",
        "# therefore if a node gets an input of negative number it wil return 0 and as gradient at this point is zero the weight will never change as back propogation use gradient value to converge. \n",
        "# # hence the value will not reduce as back propogation will be zero so on so forth\n",
        "#if many relus die this happepns  so use elu\n",
        "#elu same in +ve region to relu but in -ve region will give a negative gradient value"
      ],
      "metadata": {
        "id": "BTIPqBsk4wAB"
      },
      "execution_count": null,
      "outputs": []
    },
    {
      "cell_type": "code",
      "source": [
        "plt.plot(history.history['loss'])\n",
        "plt.plot(history.history['val_loss'])\n",
        "plt.legend(['Training','Validation'])\n",
        "plt.title('Loss')\n",
        "plt.xlabel('Epoch')"
      ],
      "metadata": {
        "id": "g2EMA73f4t5i"
      },
      "execution_count": null,
      "outputs": []
    },
    {
      "cell_type": "code",
      "source": [
        "#before applying the model to the simulator we need to save our model"
      ],
      "metadata": {
        "id": "O2gbNKi1IDdM"
      },
      "execution_count": null,
      "outputs": []
    },
    {
      "cell_type": "code",
      "source": [
        "model.save('model.h5')"
      ],
      "metadata": {
        "id": "rrKZ15fxNsvB"
      },
      "execution_count": null,
      "outputs": []
    },
    {
      "cell_type": "code",
      "source": [
        "#download model"
      ],
      "metadata": {
        "id": "RioflcxdN0CP"
      },
      "execution_count": null,
      "outputs": []
    },
    {
      "cell_type": "code",
      "source": [
        "from google.colab import files"
      ],
      "metadata": {
        "id": "VFYvaJShN2U-"
      },
      "execution_count": null,
      "outputs": []
    },
    {
      "cell_type": "code",
      "source": [
        "files.download('model.h5') # may not work so save a copy in drive and re run it there then try it on google chrome"
      ],
      "metadata": {
        "id": "Qy6XabYYN5bu"
      },
      "execution_count": null,
      "outputs": []
    }
  ]
}